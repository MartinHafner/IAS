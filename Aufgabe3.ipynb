{
 "cells": [
  {
   "cell_type": "code",
   "execution_count": 3,
   "metadata": {},
   "outputs": [],
   "source": [
    "#!/usr/bin/env python\n",
    "# Programmgeruest zu Versuch 1, Aufgabe 3\n",
    "import numpy as np\n",
    "import scipy.spatial\n",
    "from random import randint\n",
    "import matplotlib \n",
    "import matplotlib.pyplot as plt \n",
    "from time import clock\n",
    "#from V1A2_Classifier import *\n",
    "\n"
   ]
  },
  {
   "cell_type": "code",
   "execution_count": 4,
   "metadata": {},
   "outputs": [
    {
     "name": "stdout",
     "output_type": "stream",
     "text": [
      "Data size: N= 1000 , D= 2\n"
     ]
    }
   ],
   "source": [
    "#(i) create some synthetic data (2-dimensional Gaussian)\n",
    "C=2                               # two classes\n",
    "N1,N2=500,500                     # N1 and N2 data vectors for the two classes\n",
    "mu1, mu2 = [1,1], [3,1]           # expectations for the two classes\n",
    "sigma1 = [[1,0.5],\\\n",
    "          [0.5,1]]                # covariance matrix for class 1\n",
    "sigma2 = [[1,0.5],\\\n",
    "          [0.5,1]]                # covariance matrix for class 2\n",
    "X1 = np.random.multivariate_normal(mu1,sigma1,(N1))    # Gaussian data vectors for class 1\n",
    "X2 = np.random.multivariate_normal(mu2,sigma2,(N2))    # Gaussian data vectors for class 2\n",
    "T1,T2 = N1*[0],N2*[1]             # corresponding class labels \n",
    "X = np.concatenate((X1,X2))       # entire data set\n",
    "T = np.concatenate((T1,T2))       # entire label set\n",
    "N,D = X.shape[0], X.shape[1]      # size of data set\n",
    "print(\"Data size: N=\",N,\", D=\",D)\n"
   ]
  },
  {
   "cell_type": "code",
   "execution_count": 5,
   "metadata": {
    "collapsed": true
   },
   "outputs": [],
   "source": [
    "# (ii) create and test classifiers\n",
    "k,S = 5,10                        # k=number of nearest neighbors; S=number of data subsets for cross validation\n",
    "X_test = np.array([[2,1],[5,1],[-1,1]])   # Some additional data vectors to be tested \n"
   ]
  },
  {
   "cell_type": "code",
   "execution_count": 7,
   "metadata": {},
   "outputs": [
    {
     "name": "stdout",
     "output_type": "stream",
     "text": [
      "\n",
      "Naive KNN Classifier: \n",
      "------------------------\n"
     ]
    },
    {
     "ename": "NameError",
     "evalue": "name 'KNNClassifier' is not defined",
     "output_type": "error",
     "traceback": [
      "\u001b[0;31m---------------------------------------------------------------------------\u001b[0m",
      "\u001b[0;31mNameError\u001b[0m                                 Traceback (most recent call last)",
      "\u001b[0;32m<ipython-input-7-fbe09fb83e58>\u001b[0m in \u001b[0;36m<module>\u001b[0;34m()\u001b[0m\n\u001b[1;32m      1\u001b[0m \u001b[0;31m# (ii.a) test of naive KNN classifier\u001b[0m\u001b[0;34m\u001b[0m\u001b[0;34m\u001b[0m\u001b[0m\n\u001b[1;32m      2\u001b[0m \u001b[0mprint\u001b[0m\u001b[0;34m(\u001b[0m\u001b[0;34m\"\\nNaive KNN Classifier:\"\u001b[0m\u001b[0;34m,\u001b[0m\u001b[0;34m\"\\n------------------------\"\u001b[0m\u001b[0;34m)\u001b[0m\u001b[0;34m\u001b[0m\u001b[0m\n\u001b[0;32m----> 3\u001b[0;31m \u001b[0mknnc\u001b[0m \u001b[0;34m=\u001b[0m \u001b[0mKNNClassifier\u001b[0m\u001b[0;34m(\u001b[0m\u001b[0mC\u001b[0m\u001b[0;34m,\u001b[0m\u001b[0mk\u001b[0m\u001b[0;34m)\u001b[0m         \u001b[0;31m# create classifier object of class KNNClassifier\u001b[0m\u001b[0;34m\u001b[0m\u001b[0m\n\u001b[0m\u001b[1;32m      4\u001b[0m \u001b[0mt1\u001b[0m\u001b[0;34m=\u001b[0m\u001b[0mclock\u001b[0m\u001b[0;34m(\u001b[0m\u001b[0;34m)\u001b[0m                        \u001b[0;31m# start time\u001b[0m\u001b[0;34m\u001b[0m\u001b[0m\n\u001b[1;32m      5\u001b[0m \u001b[0mpE_naive\u001b[0m\u001b[0;34m,\u001b[0m\u001b[0mpCE_naive\u001b[0m \u001b[0;34m=\u001b[0m \u001b[0mknnc\u001b[0m\u001b[0;34m.\u001b[0m\u001b[0mcrossvalidate\u001b[0m\u001b[0;34m(\u001b[0m\u001b[0mS\u001b[0m\u001b[0;34m,\u001b[0m\u001b[0mX\u001b[0m\u001b[0;34m,\u001b[0m\u001b[0mT\u001b[0m\u001b[0;34m)\u001b[0m \u001b[0;31m# do S-fold cross validation for data X,T\u001b[0m\u001b[0;34m\u001b[0m\u001b[0m\n",
      "\u001b[0;31mNameError\u001b[0m: name 'KNNClassifier' is not defined"
     ]
    }
   ],
   "source": [
    "# (ii.a) test of naive KNN classifier\n",
    "print(\"\\nNaive KNN Classifier:\",\"\\n------------------------\")\n",
    "knnc = KNNClassifier(C,k)         # create classifier object of class KNNClassifier\n",
    "t1=clock()                        # start time     \n",
    "pE_naive,pCE_naive = knnc.crossvalidate(S,X,T) # do S-fold cross validation for data X,T\n",
    "t2=clock()                        # end time\n",
    "t_naive=t2-t1                     # wall time required by the naive KNN algorithmus (in seconds)\n",
    "print(\"S=\", S, \" fold Cross-Validation of naive \", k, \"-NN-Classifier requires \", t_naive, \" seconds. Confusion error probability matrix is \\n\", pCE_naive)\n",
    "print(\"Probability of a classification error is pE = \", pE_naive)\n",
    "knnc.fit(X,T)                     # train classifier with whole data set\n",
    "for x_test in X_test:             # Test some additional data vectors x_test from X_test         \n",
    "    t_test,p_class,idxNN = knnc.predict(x_test,k)\n",
    "    print (\"New data vector x_test=\", x_test, \" is most likely from class \", t_test, \"; class probabilities are p_class = \", p_class)\n"
   ]
  },
  {
   "cell_type": "code",
   "execution_count": 8,
   "metadata": {},
   "outputs": [
    {
     "name": "stdout",
     "output_type": "stream",
     "text": [
      "\n",
      "Fast KNN Classifier based on KD-Trees: \n",
      "---------------------------------------\n"
     ]
    }
   ],
   "source": [
    "# (ii.b) test of KD-tree KNN classifier\n",
    "print(\"\\nFast KNN Classifier based on KD-Trees:\",\"\\n---------------------------------------\")\n",
    "t_kdtree,pE_kdtree,pCE_kdtree=-1,-1,-1      # REPLACE BY YOUR OWN CODE\n"
   ]
  },
  {
   "cell_type": "code",
   "execution_count": 9,
   "metadata": {},
   "outputs": [
    {
     "ename": "NameError",
     "evalue": "name 't_naive' is not defined",
     "output_type": "error",
     "traceback": [
      "\u001b[0;31m---------------------------------------------------------------------------\u001b[0m",
      "\u001b[0;31mNameError\u001b[0m                                 Traceback (most recent call last)",
      "\u001b[0;32m<ipython-input-9-212b21f051da>\u001b[0m in \u001b[0;36m<module>\u001b[0;34m()\u001b[0m\n\u001b[1;32m      6\u001b[0m \u001b[0ma\u001b[0m\u001b[0;34m.\u001b[0m\u001b[0mset_xlabel\u001b[0m\u001b[0;34m(\u001b[0m\u001b[0;34m'feature x1'\u001b[0m\u001b[0;34m)\u001b[0m\u001b[0;34m;\u001b[0m\u001b[0;34m\u001b[0m\u001b[0m\n\u001b[1;32m      7\u001b[0m \u001b[0ma\u001b[0m\u001b[0;34m.\u001b[0m\u001b[0mset_ylabel\u001b[0m\u001b[0;34m(\u001b[0m\u001b[0;34m'feature x2'\u001b[0m\u001b[0;34m)\u001b[0m\u001b[0;34m;\u001b[0m\u001b[0;34m\u001b[0m\u001b[0m\n\u001b[0;32m----> 8\u001b[0;31m \u001b[0ma\u001b[0m\u001b[0;34m.\u001b[0m\u001b[0mset_title\u001b[0m\u001b[0;34m(\u001b[0m\u001b[0;34m'Naive: '\u001b[0m\u001b[0;34m+\u001b[0m\u001b[0mstr\u001b[0m\u001b[0;34m(\u001b[0m\u001b[0mt_naive\u001b[0m\u001b[0;34m)\u001b[0m\u001b[0;34m+\u001b[0m\u001b[0;34m'sec/ KD-Tree: '\u001b[0m\u001b[0;34m+\u001b[0m\u001b[0mstr\u001b[0m\u001b[0;34m(\u001b[0m\u001b[0mt_kdtree\u001b[0m\u001b[0;34m)\u001b[0m\u001b[0;34m+\u001b[0m\u001b[0;34m'sec; Classification Error='\u001b[0m\u001b[0;34m+\u001b[0m\u001b[0mstr\u001b[0m\u001b[0;34m(\u001b[0m\u001b[0mpE_naive\u001b[0m\u001b[0;34m)\u001b[0m\u001b[0;34m+\u001b[0m\u001b[0;34m'/'\u001b[0m\u001b[0;34m+\u001b[0m\u001b[0mstr\u001b[0m\u001b[0;34m(\u001b[0m\u001b[0mpE_kdtree\u001b[0m\u001b[0;34m)\u001b[0m\u001b[0;34m)\u001b[0m\u001b[0;34m;\u001b[0m\u001b[0;34m\u001b[0m\u001b[0m\n\u001b[0m\u001b[1;32m      9\u001b[0m \u001b[0;34m\u001b[0m\u001b[0m\n\u001b[1;32m     10\u001b[0m \u001b[0mplt\u001b[0m\u001b[0;34m.\u001b[0m\u001b[0mshow\u001b[0m\u001b[0;34m(\u001b[0m\u001b[0;34m)\u001b[0m\u001b[0;34m\u001b[0m\u001b[0m\n",
      "\u001b[0;31mNameError\u001b[0m: name 't_naive' is not defined"
     ]
    }
   ],
   "source": [
    "# (iii) plot data\n",
    "f=plt.figure()\n",
    "a = f.add_subplot(111)\n",
    "a.plot(X1.T[0],X1.T[1],'rx')               # plot data vectors of class 1\n",
    "a.plot(X2.T[0],X2.T[1],'g+')               # plot data vectors of class 2\n",
    "a.set_xlabel('feature x1');\n",
    "a.set_ylabel('feature x2');\n",
    "a.set_title('Naive: '+str(t_naive)+'sec/ KD-Tree: '+str(t_kdtree)+'sec; Classification Error='+str(pE_naive)+'/'+str(pE_kdtree));\n",
    "\n",
    "plt.show()\n"
   ]
  },
  {
   "cell_type": "code",
   "execution_count": null,
   "metadata": {
    "collapsed": true
   },
   "outputs": [],
   "source": []
  }
 ],
 "metadata": {
  "kernelspec": {
   "display_name": "Python 3",
   "language": "python",
   "name": "python3"
  },
  "language_info": {
   "codemirror_mode": {
    "name": "ipython",
    "version": 3
   },
   "file_extension": ".py",
   "mimetype": "text/x-python",
   "name": "python",
   "nbconvert_exporter": "python",
   "pygments_lexer": "ipython3",
   "version": "3.6.3"
  }
 },
 "nbformat": 4,
 "nbformat_minor": 2
}
