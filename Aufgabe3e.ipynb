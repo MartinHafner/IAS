{
 "cells": [
  {
   "cell_type": "code",
   "execution_count": 1,
   "metadata": {
    "collapsed": true
   },
   "outputs": [],
   "source": [
    "# Programmgeruest zu Versuch 1, Aufgabe 3e\n",
    "import numpy as np\n",
    "import matplotlib.pyplot as plt\n",
    "from time import clock\n",
    "#from V1A2_Classifier import *"
   ]
  },
  {
   "cell_type": "code",
   "execution_count": 2,
   "metadata": {
    "collapsed": true
   },
   "outputs": [],
   "source": [
    "\n",
    "# (i) define parameters K,S,N and 2-dimensional Gaussian\n",
    "C=2;\n",
    "K=5;\n",
    "S=1;\n",
    "N_list=[10, 20];                      # REPLACE! Insert list of data set size N as desired\n",
    "mu1, mu2 = [1,1], [3,1]               # expectations for the two classes\n",
    "cov1 = [[1,0.5],\\\n",
    "        [0.5,1]]                      # covariance matrix for class 1\n",
    "cov2 = [[1,0.5],\\\n",
    "        [0.5,1]]                      # covariance matrix for class 2\n",
    "time_comp_naive  = np.zeros(len(N_list));    # allocate memory for time measurements for naive KNN\n",
    "time_comp_kdtree = np.zeros(len(N_list));    # allocate memory for time measurements for KNN with KD tree\n"
   ]
  },
  {
   "cell_type": "code",
   "execution_count": 4,
   "metadata": {},
   "outputs": [
    {
     "name": "stdout",
     "output_type": "stream",
     "text": [
      "\n",
      "running KNN cross validation for K= 5 S= 1 N= 10\n"
     ]
    },
    {
     "ename": "NameError",
     "evalue": "name 'KNNClassifier' is not defined",
     "output_type": "error",
     "traceback": [
      "\u001b[0;31m---------------------------------------------------------------------------\u001b[0m",
      "\u001b[0;31mNameError\u001b[0m                                 Traceback (most recent call last)",
      "\u001b[0;32m<ipython-input-4-faebdf278e4f>\u001b[0m in \u001b[0;36m<module>\u001b[0;34m()\u001b[0m\n\u001b[1;32m     13\u001b[0m \u001b[0;34m\u001b[0m\u001b[0m\n\u001b[1;32m     14\u001b[0m     \u001b[0;31m# (ii.b) do cross validation for this data set using naive KNN\u001b[0m\u001b[0;34m\u001b[0m\u001b[0;34m\u001b[0m\u001b[0m\n\u001b[0;32m---> 15\u001b[0;31m     \u001b[0mknnc\u001b[0m \u001b[0;34m=\u001b[0m \u001b[0mKNNClassifier\u001b[0m\u001b[0;34m(\u001b[0m\u001b[0mC\u001b[0m\u001b[0;34m,\u001b[0m\u001b[0mK\u001b[0m\u001b[0;34m)\u001b[0m         \u001b[0;31m# create classifier object of class KNNClassifier\u001b[0m\u001b[0;34m\u001b[0m\u001b[0m\n\u001b[0m\u001b[1;32m     16\u001b[0m     \u001b[0mt1\u001b[0m\u001b[0;34m=\u001b[0m\u001b[0mclock\u001b[0m\u001b[0;34m(\u001b[0m\u001b[0;34m)\u001b[0m                        \u001b[0;31m# start time\u001b[0m\u001b[0;34m\u001b[0m\u001b[0m\n\u001b[1;32m     17\u001b[0m     \u001b[0mpE\u001b[0m\u001b[0;34m,\u001b[0m\u001b[0mpCE\u001b[0m \u001b[0;34m=\u001b[0m \u001b[0mknnc\u001b[0m\u001b[0;34m.\u001b[0m\u001b[0mcrossvalidate\u001b[0m\u001b[0;34m(\u001b[0m\u001b[0mS\u001b[0m\u001b[0;34m,\u001b[0m\u001b[0mX\u001b[0m\u001b[0;34m,\u001b[0m\u001b[0mT\u001b[0m\u001b[0;34m)\u001b[0m\u001b[0;31m# do S-fold cross validation for data X,T\u001b[0m\u001b[0;34m\u001b[0m\u001b[0m\n",
      "\u001b[0;31mNameError\u001b[0m: name 'KNNClassifier' is not defined"
     ]
    }
   ],
   "source": [
    "# (ii) Make (wall-)time measurements for cross validations of data sets of various sizes N\n",
    "for i in range(len(N_list)):\n",
    "    N=N_list[i]\n",
    "    print(\"\\nrunning KNN cross validation for K=\",K,\"S=\",S,\"N=\",N)\n",
    "\n",
    "    # (ii.a) generate synthetic data \n",
    "    N1,N2=N//2,N//2                     # N1 and N2 data vectors for the two classes  \n",
    "    X1 = np.random.multivariate_normal(mu1,cov1,(N1))    # Gaussian data vectors for class 1\n",
    "    X2 = np.random.multivariate_normal(mu2,cov2,(N2))    # Gaussian data vectors for class 2\n",
    "    T1,T2 = N1*[0],N2*[1]             # corresponding class labels \n",
    "    X = np.concatenate((X1,X2))       # entire data set\n",
    "    T = np.concatenate((T1,T2))       # entire label set\n",
    "\n",
    "    # (ii.b) do cross validation for this data set using naive KNN\n",
    "    knnc = KNNClassifier(C,K)         # create classifier object of class KNNClassifier\n",
    "    t1=clock()                        # start time\n",
    "    pE,pCE = knnc.crossvalidate(S,X,T)# do S-fold cross validation for data X,T\n",
    "    t2=clock()                        # end time\n",
    "    time_comp_naive[i]=t2-t1          # computing time in seconds\n",
    "    print(\"\\nS=\",S,\" fold cross validation using the naive KNNClassifier yields the following results:\")\n",
    "    print(\"Classification error probability = \", pE)\n",
    "    print(\"Accuracy = \", 1.0-pE)\n",
    "    print(\"Confusion Error Probabilities p(class i|class j) = \\n\", pCE)\n",
    "    print(\"Computing time = \", time_comp_naive[i], \" sec\")\n",
    "\n",
    "    # (ii.c) do cross validation for this data set using KNN with KD trees\n",
    "    # INSERT CODE AS IN (ii.b) for KNN with kd trees!!!\n",
    "    time_comp_kdtree[i]=-1           # REPLACE DUMMY CODE with true computing time\n",
    "    print(\"\\nS=\",S,\" fold cross validation using the KD-Tree-KNNClassifier yields the following results:\")\n",
    "    print(\"Classification error probability = \", pE)\n",
    "    print(\"Accuracy = \", 1.0-pE)\n",
    "    print(\"Confusion Error Probabilities p(class i|class j) = \\n\", pCE)\n",
    "    print(\"Computing time = \", time_comp_kdtree[i], \" sec\")\n"
   ]
  },
  {
   "cell_type": "code",
   "execution_count": 5,
   "metadata": {},
   "outputs": [
    {
     "name": "stdout",
     "output_type": "stream",
     "text": [
      "\n",
      "Results for N= [10, 20] \n",
      "time_comp_naive= [ 0.  0.] \n",
      "time_comp_kdtree= [ 0.  0.]\n"
     ]
    }
   ],
   "source": [
    "# (iii) print results\n",
    "print(\"\\nResults for N=\",N_list,\"\\ntime_comp_naive=\",time_comp_naive,\"\\ntime_comp_kdtree=\",time_comp_kdtree)"
   ]
  },
  {
   "cell_type": "code",
   "execution_count": 6,
   "metadata": {},
   "outputs": [
    {
     "data": {
      "image/png": "[encoded data removed]",
      "text/plain": [
       "<matplotlib.figure.Figure at 0x7f7480c9c710>"
      ]
     },
     "metadata": {},
     "output_type": "display_data"
    }
   ],
   "source": [
    "# (iv) plot results\n",
    "f=plt.figure()\n",
    "a = f.add_subplot(111)\n",
    "a.plot(N_list,time_comp_naive,'bo-',N_list,time_comp_kdtree,'gd-')       # plot computing times \n",
    "a.set_xlabel('number of data vectors N');\n",
    "a.set_ylabel('computing time [sec]');\n",
    "a.set_title('Computing time for '+str(S)+'-fold cross validation for KNN with K='+str(K));\n",
    "a.grid()\n",
    "\n",
    "plt.show()"
   ]
  },
  {
   "cell_type": "code",
   "execution_count": null,
   "metadata": {
    "collapsed": true
   },
   "outputs": [],
   "source": []
  }
 ],
 "metadata": {
  "kernelspec": {
   "display_name": "Python 3",
   "language": "python",
   "name": "python3"
  },
  "language_info": {
   "codemirror_mode": {
    "name": "ipython",
    "version": 3
   },
   "file_extension": ".py",
   "mimetype": "text/x-python",
   "name": "python",
   "nbconvert_exporter": "python",
   "pygments_lexer": "ipython3",
   "version": "3.6.3"
  }
 },
 "nbformat": 4,
 "nbformat_minor": 2
}
