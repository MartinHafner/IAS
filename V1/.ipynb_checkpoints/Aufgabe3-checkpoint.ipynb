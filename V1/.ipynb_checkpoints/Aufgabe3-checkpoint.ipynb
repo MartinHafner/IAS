{
 "cells": [
  {
   "cell_type": "markdown",
   "metadata": {},
   "source": [
    "# a)"
   ]
  },
  {
   "cell_type": "markdown",
   "metadata": {},
   "source": [
    "- Die Fehlerwahrscheinlichkeit ist 0% da er den Punkt schon kennt"
   ]
  },
  {
   "cell_type": "markdown",
   "metadata": {},
   "source": [
    "- nein da vorallem bei höheren k, eine Abwägung stattfindet"
   ]
  },
  {
   "cell_type": "markdown",
   "metadata": {},
   "source": [
    "- Fehlerwahrscheinlichkeit lässt sich stochastisch bestimmen indem man den Algorithmus gegen Daten mit bekannten Labels laufen lässt und die Falschklassifikationen zählt. "
   ]
  },
  {
   "cell_type": "markdown",
   "metadata": {},
   "source": [
    "- Bei der Kreuzvalidierung werden die Daten in S Teile aufgeteilt, und dann S mal jeweils mit einem andereren Teil als Testdaten validiert. Die Daten ohne den Testteil sind dabei immer die Trainingsdaten."
   ]
  },
  {
   "cell_type": "markdown",
   "metadata": {},
   "source": [
    "# b) "
   ]
  },
  {
   "cell_type": "markdown",
   "metadata": {},
   "source": [
    "- S ist die Anzahl der Teile in die der Datensatz zerteilt wird"
   ]
  },
  {
   "cell_type": "markdown",
   "metadata": {},
   "source": [
    "- perm, Xp und Tp bringen die Daten in eine zufällige Reihenfolge"
   ]
  },
  {
   "cell_type": "markdown",
   "metadata": {},
   "source": [
    "- idxS ist eine Liste der Anfangsindexe der S Teile"
   ]
  },
  {
   "cell_type": "markdown",
   "metadata": {},
   "source": [
    "- Die Schleife läuft über alle S Teile und macht jeweils einen Test mit einem anderen Teil"
   ]
  },
  {
   "cell_type": "markdown",
   "metadata": {},
   "source": [
    "- X_learn und T_learn bzw. X_test und T_test sind jeweils der Lerndatensatz und der Testdatensatz mit Labeln"
   ]
  },
  {
   "cell_type": "markdown",
   "metadata": {},
   "source": [
    "- für S=1 sind alle Daten sowohl Testdaten als auch Lerndaten und es gibt nur einen Durchlauf"
   ]
  },
  {
   "cell_type": "markdown",
   "metadata": {},
   "source": [
    "- Die Schleife läuft über alle Testdaten und testet sie."
   ]
  },
  {
   "cell_type": "markdown",
   "metadata": {},
   "source": [
    "-  pClassError ist die allgemeine Fehlerwahrscheinlichkeit, pConfError sind die Fehlerwahrscheinlichkeiten per Klasse"
   ]
  },
  {
   "cell_type": "markdown",
   "metadata": {},
   "source": [
    "# c)"
   ]
  },
  {
   "cell_type": "markdown",
   "metadata": {},
   "source": [
    "- V1A2_Classifier wird importiert damit die Classen (knn und Fastknn) darin verwendet werden können"
   ]
  },
  {
   "cell_type": "markdown",
   "metadata": {},
   "source": [
    "- np.random.multivariate_normal(mu,sigma,N) hier würden N Datenpunkte gaußverteilt generiert werden.  \n",
    "  N1, N2 sind die Größen der Teildatensätze und N ist ihre kombinierte Größe"
   ]
  },
  {
   "cell_type": "markdown",
   "metadata": {},
   "source": [
    "- Klasse 0:  \n",
    "Mittelwert = [1,1]  \n",
    "Kovarianzmatrix = [[1,0.5],[0.5,1]]  \n",
    "Klasse 1:  \n",
    "Mittelwert = [3,1]    \n",
    "Kovarianzmatrix = [[1,0.5],[0.5,1]]   "
   ]
  },
  {
   "cell_type": "markdown",
   "metadata": {},
   "source": [
    "- pE_naive, pCE_naive sind die Fehlerwerte aus der Kreuzvalidierung und t_naive ist die benötigte Zeit"
   ]
  },
  {
   "cell_type": "code",
   "execution_count": 30,
   "metadata": {
    "collapsed": true
   },
   "outputs": [],
   "source": [
    "#!/usr/bin/env python\n",
    "# Programmgeruest zu Versuch 1, Aufgabe 3\n",
    "import numpy as np\n",
    "import scipy.spatial\n",
    "from random import randint\n",
    "import matplotlib \n",
    "import matplotlib.pyplot as plt \n",
    "from time import clock\n",
    "from V1A2_Classifier import *\n",
    "\n"
   ]
  },
  {
   "cell_type": "code",
   "execution_count": 31,
   "metadata": {},
   "outputs": [
    {
     "name": "stdout",
     "output_type": "stream",
     "text": [
      "Data size: N= 1000 , D= 2\n"
     ]
    }
   ],
   "source": [
    "#(i) create some synthetic data (2-dimensional Gaussian)\n",
    "C=2                               # two classes\n",
    "N1,N2=500,500                     # N1 and N2 data vectors for the two classes\n",
    "mu1, mu2 = [1,1], [3,1]           # expectations for the two classes\n",
    "sigma1 = [[1,0.5],\\\n",
    "          [0.5,1]]                # covariance matrix for class 1\n",
    "sigma2 = [[1,0.5],\\\n",
    "          [0.5,1]]                # covariance matrix for class 2\n",
    "X1 = np.random.multivariate_normal(mu1,sigma1,(N1))    # Gaussian data vectors for class 1\n",
    "X2 = np.random.multivariate_normal(mu2,sigma2,(N2))    # Gaussian data vectors for class 2\n",
    "T1,T2 = N1*[0],N2*[1]             # corresponding class labels \n",
    "X = np.concatenate((X1,X2))       # entire data set\n",
    "T = np.concatenate((T1,T2))       # entire label set\n",
    "N,D = X.shape[0], X.shape[1]      # size of data set\n",
    "print(\"Data size: N=\",N,\", D=\",D)\n"
   ]
  },
  {
   "cell_type": "code",
   "execution_count": 32,
   "metadata": {
    "collapsed": true
   },
   "outputs": [],
   "source": [
    "# (ii) create and test classifiers\n",
    "k,S = 5,10                        # k=number of nearest neighbors; S=number of data subsets for cross validation\n",
    "X_test = np.array([[2,1],[5,1],[-1,1]])   # Some additional data vectors to be tested \n"
   ]
  },
  {
   "cell_type": "code",
   "execution_count": 33,
   "metadata": {},
   "outputs": [
    {
     "name": "stdout",
     "output_type": "stream",
     "text": [
      "\n",
      "Naive KNN Classifier: \n",
      "------------------------\n",
      "S= 10  fold Cross-Validation of naive  5 -NN-Classifier requires  0.1454979999999999  seconds. Confusion error probability matrix is \n",
      " [[ 0.784  0.182]\n",
      " [ 0.216  0.818]]\n",
      "Probability of a classification error is pE =  0.199\n",
      "New data vector x_test= [2 1]  is most likely from class  1 ; class probabilities are p_class =  [0.6, 0.4]\n",
      "New data vector x_test= [5 1]  is most likely from class  1 ; class probabilities are p_class =  [0.0, 1.0]\n",
      "New data vector x_test= [-1  1]  is most likely from class  0 ; class probabilities are p_class =  [1.0, 0.0]\n"
     ]
    }
   ],
   "source": [
    "# (ii.a) test of naive KNN classifier\n",
    "print(\"\\nNaive KNN Classifier:\",\"\\n------------------------\")\n",
    "knnc = KNNClassifier(C,k)         # create classifier object of class KNNClassifier\n",
    "t1=clock()                        # start time     \n",
    "pE_naive,pCE_naive = knnc.crossvalidate(S,X,T) # do S-fold cross validation for data X,T\n",
    "t2=clock()                        # end time\n",
    "t_naive=t2-t1                     # wall time required by the naive KNN algorithmus (in seconds)\n",
    "print(\"S=\", S, \" fold Cross-Validation of naive \", k, \"-NN-Classifier requires \", t_naive, \" seconds. Confusion error probability matrix is \\n\", pCE_naive)\n",
    "print(\"Probability of a classification error is pE = \", pE_naive)\n",
    "knnc.fit(X,T)                     # train classifier with whole data set\n",
    "for x_test in X_test:             # Test some additional data vectors x_test from X_test         \n",
    "    t_test,p_class,idxNN = knnc.predict(x_test,k)\n",
    "    print (\"New data vector x_test=\", x_test, \" is most likely from class \", t_test, \"; class probabilities are p_class = \", p_class)\n"
   ]
  },
  {
   "cell_type": "markdown",
   "metadata": {},
   "source": [
    "# zu c)  \n",
    "- "
   ]
  },
  {
   "cell_type": "code",
   "execution_count": 34,
   "metadata": {},
   "outputs": [
    {
     "name": "stdout",
     "output_type": "stream",
     "text": [
      "\n",
      "Fast KNN Classifier based on KD-Trees: \n",
      "---------------------------------------\n",
      "S= 10  fold Cross-Validation of naive  5 -NN-Classifier requires  0.6590220000000002  seconds. Confusion error probability matrix is \n",
      " [[ 0.818  0.178]\n",
      " [ 0.182  0.822]]\n",
      "Probability of a classification error is pE =  0.18\n",
      "New data vector x_test= [2 1]  is most likely from class  1 ; class probabilities are p_class =  [0.6, 0.4]\n",
      "New data vector x_test= [5 1]  is most likely from class  1 ; class probabilities are p_class =  [0.0, 1.0]\n",
      "New data vector x_test= [-1  1]  is most likely from class  0 ; class probabilities are p_class =  [1.0, 0.0]\n"
     ]
    }
   ],
   "source": [
    "# (ii.b) test of KD-tree KNN classifier\n",
    "print(\"\\nFast KNN Classifier based on KD-Trees:\",\"\\n---------------------------------------\")\n",
    "knnc = FastKNNClassifier(C,k)         # create classifier object of class KNNClassifier\n",
    "t1=clock()                        # start time     \n",
    "pE_kdtree,pCE_kdtree = knnc.crossvalidate(S,X,T) # do S-fold cross validation for data X,T\n",
    "t2=clock()                        # end time\n",
    "t_kdtree=t2-t1                     # wall time required by the naive KNN algorithmus (in seconds)\n",
    "print(\"S=\", S, \" fold Cross-Validation of naive \", k, \"-NN-Classifier requires \", t_kdtree, \" seconds. Confusion error probability matrix is \\n\", pCE_kdtree)\n",
    "print(\"Probability of a classification error is pE = \", pE_kdtree)\n",
    "knnc.fit(X,T)                     # train classifier with whole data set\n",
    "for x_test in X_test:             # Test some additional data vectors x_test from X_test         \n",
    "    t_test,p_class,idxNN = knnc.predict(x_test,k)\n",
    "    print (\"New data vector x_test=\", x_test, \" is most likely from class \", t_test, \"; class probabilities are p_class = \", p_class)\n",
    "\n"
   ]
  },
  {
   "cell_type": "code",
   "execution_count": 35,
   "metadata": {},
   "outputs": [
    {
     "data": {
      "image/png": "[encoded data removed]",
      "text/plain": [
       "<matplotlib.figure.Figure at 0x7f918bcad4a8>"
      ]
     },
     "metadata": {},
     "output_type": "display_data"
    }
   ],
   "source": [
    "# (iii) plot data\n",
    "f=plt.figure()\n",
    "a = f.add_subplot(111)\n",
    "a.plot(X1.T[0],X1.T[1],'rx')               # plot data vectors of class 1\n",
    "a.plot(X2.T[0],X2.T[1],'g+')               # plot data vectors of class 2\n",
    "a.set_xlabel('feature x1');\n",
    "a.set_ylabel('feature x2');\n",
    "a.set_title('Naive: '+str(t_naive)+'sec/ KD-Tree: '+str(t_kdtree)+'sec; Classification Error='+str(pE_naive)+'/'+str(pE_kdtree));\n",
    "\n",
    "plt.show()\n"
   ]
  },
  {
   "cell_type": "markdown",
   "metadata": {
    "collapsed": true
   },
   "source": [
    "# d)"
   ]
  },
  {
   "cell_type": "markdown",
   "metadata": {},
   "source": [
    "- k = 1 gibt error noch verbessern"
   ]
  },
  {
   "cell_type": "code",
   "execution_count": 36,
   "metadata": {},
   "outputs": [
    {
     "name": "stdout",
     "output_type": "stream",
     "text": [
      "\n",
      "Fast KNN Classifier based on KD-Trees: \n",
      "---------------------------------------\n",
      "1   1\n"
     ]
    },
    {
     "ename": "TypeError",
     "evalue": "'numpy.int64' object is not iterable",
     "output_type": "error",
     "traceback": [
      "\u001b[0;31m---------------------------------------------------------------------------\u001b[0m",
      "\u001b[0;31mTypeError\u001b[0m                                 Traceback (most recent call last)",
      "\u001b[0;32m<ipython-input-36-c4b30053942d>\u001b[0m in \u001b[0;36m<module>\u001b[0;34m()\u001b[0m\n\u001b[1;32m      4\u001b[0m         \u001b[0mprint\u001b[0m\u001b[0;34m(\u001b[0m\u001b[0mk\u001b[0m\u001b[0;34m,\u001b[0m\u001b[0;34m\" \"\u001b[0m\u001b[0;34m,\u001b[0m\u001b[0mS\u001b[0m\u001b[0;34m)\u001b[0m\u001b[0;34m\u001b[0m\u001b[0m\n\u001b[1;32m      5\u001b[0m         \u001b[0mknnc\u001b[0m \u001b[0;34m=\u001b[0m \u001b[0mFastKNNClassifier\u001b[0m\u001b[0;34m(\u001b[0m\u001b[0mC\u001b[0m\u001b[0;34m,\u001b[0m\u001b[0mk\u001b[0m\u001b[0;34m)\u001b[0m         \u001b[0;31m# create classifier object of class KNNClassifier\u001b[0m\u001b[0;34m\u001b[0m\u001b[0m\n\u001b[0;32m----> 6\u001b[0;31m         \u001b[0mpE_kdtree\u001b[0m\u001b[0;34m,\u001b[0m\u001b[0mpCE_kdtree\u001b[0m \u001b[0;34m=\u001b[0m \u001b[0mknnc\u001b[0m\u001b[0;34m.\u001b[0m\u001b[0mcrossvalidate\u001b[0m\u001b[0;34m(\u001b[0m\u001b[0mS\u001b[0m\u001b[0;34m,\u001b[0m\u001b[0mX\u001b[0m\u001b[0;34m,\u001b[0m\u001b[0mT\u001b[0m\u001b[0;34m)\u001b[0m \u001b[0;31m# do S-fold cross validation for data X,T\u001b[0m\u001b[0;34m\u001b[0m\u001b[0m\n\u001b[0m\u001b[1;32m      7\u001b[0m         \u001b[0mprint\u001b[0m\u001b[0;34m(\u001b[0m\u001b[0;34m\"S=\"\u001b[0m\u001b[0;34m,\u001b[0m \u001b[0mS\u001b[0m\u001b[0;34m,\u001b[0m \u001b[0;34m\" fold Cross-Validation of naive \"\u001b[0m\u001b[0;34m,\u001b[0m \u001b[0mk\u001b[0m\u001b[0;34m,\u001b[0m \u001b[0;34m\"-NN-Classifier requires \"\u001b[0m\u001b[0;34m,\u001b[0m \u001b[0mt_kdtree\u001b[0m\u001b[0;34m,\u001b[0m \u001b[0;34m\" seconds. Confusion error probability matrix is \\n\"\u001b[0m\u001b[0;34m,\u001b[0m \u001b[0mpCE_kdtree\u001b[0m\u001b[0;34m)\u001b[0m\u001b[0;34m\u001b[0m\u001b[0m\n\u001b[1;32m      8\u001b[0m         \u001b[0mprint\u001b[0m\u001b[0;34m(\u001b[0m\u001b[0;34m\"Probability of a classification error is pE = \"\u001b[0m\u001b[0;34m,\u001b[0m \u001b[0mpE_kdtree\u001b[0m\u001b[0;34m)\u001b[0m\u001b[0;34m\u001b[0m\u001b[0m\n",
      "\u001b[0;32m~/Dokumente/Semester5/IAS/Praktikum/IAS/V1A2_Classifier.py\u001b[0m in \u001b[0;36mcrossvalidate\u001b[0;34m(self, S, X, T)\u001b[0m\n\u001b[1;32m     93\u001b[0m             \u001b[0;32mfor\u001b[0m \u001b[0mi\u001b[0m \u001b[0;32min\u001b[0m \u001b[0mrange\u001b[0m\u001b[0;34m(\u001b[0m\u001b[0mlen\u001b[0m\u001b[0;34m(\u001b[0m\u001b[0mX_test\u001b[0m\u001b[0;34m)\u001b[0m\u001b[0;34m)\u001b[0m\u001b[0;34m:\u001b[0m  \u001b[0;31m# loop over all data vectors to be tested\u001b[0m\u001b[0;34m\u001b[0m\u001b[0m\n\u001b[1;32m     94\u001b[0m                 \u001b[0;31m# (ii.a) classify i-th test vector\u001b[0m\u001b[0;34m\u001b[0m\u001b[0;34m\u001b[0m\u001b[0m\n\u001b[0;32m---> 95\u001b[0;31m                 \u001b[0mt_test\u001b[0m \u001b[0;34m=\u001b[0m \u001b[0mself\u001b[0m\u001b[0;34m.\u001b[0m\u001b[0mpredict\u001b[0m\u001b[0;34m(\u001b[0m\u001b[0mX_test\u001b[0m\u001b[0;34m[\u001b[0m\u001b[0mi\u001b[0m\u001b[0;34m]\u001b[0m\u001b[0;34m)\u001b[0m\u001b[0;34m[\u001b[0m\u001b[0;36m0\u001b[0m\u001b[0;34m]\u001b[0m             \u001b[0;31m# classify test vector\u001b[0m\u001b[0;34m\u001b[0m\u001b[0m\n\u001b[0m\u001b[1;32m     96\u001b[0m                 \u001b[0;31m# (ii.b) check for classification errors\u001b[0m\u001b[0;34m\u001b[0m\u001b[0;34m\u001b[0m\u001b[0m\n\u001b[1;32m     97\u001b[0m                 \u001b[0mt_true\u001b[0m \u001b[0;34m=\u001b[0m \u001b[0mT_test\u001b[0m\u001b[0;34m[\u001b[0m\u001b[0mi\u001b[0m\u001b[0;34m]\u001b[0m                              \u001b[0;31m# true class label\u001b[0m\u001b[0;34m\u001b[0m\u001b[0m\n",
      "\u001b[0;32m~/Dokumente/Semester5/IAS/Praktikum/IAS/V1A2_Classifier.py\u001b[0m in \u001b[0;36mpredict\u001b[0;34m(self, x, k)\u001b[0m\n\u001b[1;32m    175\u001b[0m         \u001b[0;32mif\u001b[0m \u001b[0mk\u001b[0m\u001b[0;34m==\u001b[0m\u001b[0;32mNone\u001b[0m\u001b[0;34m:\u001b[0m \u001b[0mk\u001b[0m\u001b[0;34m=\u001b[0m\u001b[0mself\u001b[0m\u001b[0;34m.\u001b[0m\u001b[0mk\u001b[0m                       \u001b[0;31m# use default parameter k?\u001b[0m\u001b[0;34m\u001b[0m\u001b[0m\n\u001b[1;32m    176\u001b[0m         \u001b[0midxKNN\u001b[0m \u001b[0;34m=\u001b[0m \u001b[0mself\u001b[0m\u001b[0;34m.\u001b[0m\u001b[0mgetKNearestNeighbors\u001b[0m\u001b[0;34m(\u001b[0m\u001b[0mx\u001b[0m\u001b[0;34m,\u001b[0m\u001b[0mk\u001b[0m\u001b[0;34m)\u001b[0m    \u001b[0;31m# get indexes of k nearest neighbors of x\u001b[0m\u001b[0;34m\u001b[0m\u001b[0m\n\u001b[0;32m--> 177\u001b[0;31m         \u001b[0;32mif\u001b[0m \u001b[0mlen\u001b[0m\u001b[0;34m(\u001b[0m\u001b[0midxKNN\u001b[0m\u001b[0;34m)\u001b[0m \u001b[0;34m==\u001b[0m \u001b[0;36m1\u001b[0m\u001b[0;34m:\u001b[0m\u001b[0;34m\u001b[0m\u001b[0m\n\u001b[0m\u001b[1;32m    178\u001b[0m             \u001b[0mprediction\u001b[0m \u001b[0;34m=\u001b[0m \u001b[0mself\u001b[0m\u001b[0;34m.\u001b[0m\u001b[0mT\u001b[0m\u001b[0;34m[\u001b[0m\u001b[0midxKNN\u001b[0m\u001b[0;34m[\u001b[0m\u001b[0;36m0\u001b[0m\u001b[0;34m]\u001b[0m\u001b[0;34m]\u001b[0m\u001b[0;34m\u001b[0m\u001b[0m\n\u001b[1;32m    179\u001b[0m         \u001b[0;32melse\u001b[0m\u001b[0;34m:\u001b[0m\u001b[0;34m\u001b[0m\u001b[0m\n",
      "\u001b[0;31mTypeError\u001b[0m: 'numpy.int64' object is not iterable"
     ]
    }
   ],
   "source": [
    "print(\"\\nFast KNN Classifier based on KD-Trees:\",\"\\n---------------------------------------\")\n",
    "for k in (5,11):\n",
    "    for S in (1,2,5):\n",
    "        print(k,\" \",S)\n",
    "        knnc = FastKNNClassifier(C,k)         # create classifier object of class KNNClassifier  \n",
    "        pE_kdtree,pCE_kdtree = knnc.crossvalidate(S,X,T) # do S-fold cross validation for data X,T\n",
    "        print(\"S=\", S, \" fold Cross-Validation of naive \", k, \"-NN-Classifier requires \", t_kdtree, \" seconds. Confusion error probability matrix is \\n\", pCE_kdtree)\n",
    "        print(\"Probability of a classification error is pE = \", pE_kdtree)\n",
    "        knnc.fit(X,T)                     # train classifier with whole data set\n",
    "        for x_test in X_test:             # Test some additional data vectors x_test from X_test         \n",
    "            t_test,p_class,idxNN = knnc.predict(x_test,k)\n",
    "            print (\"New data vector x_test=\", x_test, \" is most likely from class \", t_test, \"; class probabilities are p_class = \", p_class)\n"
   ]
  },
  {
   "cell_type": "code",
   "execution_count": null,
   "metadata": {
    "collapsed": true
   },
   "outputs": [],
   "source": []
  }
 ],
 "metadata": {
  "kernelspec": {
   "display_name": "Python 3",
   "language": "python",
   "name": "python3"
  },
  "language_info": {
   "codemirror_mode": {
    "name": "ipython",
    "version": 3
   },
   "file_extension": ".py",
   "mimetype": "text/x-python",
   "name": "python",
   "nbconvert_exporter": "python",
   "pygments_lexer": "ipython3",
   "version": "3.6.3"
  }
 },
 "nbformat": 4,
 "nbformat_minor": 2
}
