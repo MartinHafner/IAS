{
 "cells": [
  {
   "cell_type": "markdown",
   "metadata": {},
   "source": [
    "# a)"
   ]
  },
  {
   "cell_type": "markdown",
   "metadata": {},
   "source": [
    "- Die Fehlerwahrscheinlichkeit ist 0% da er den Punkt schon kennt"
   ]
  },
  {
   "cell_type": "markdown",
   "metadata": {},
   "source": [
    "- nein da vorallem bei höheren k, eine Abwägung stattfindet"
   ]
  },
  {
   "cell_type": "markdown",
   "metadata": {},
   "source": [
    "- Fehlerwahrscheinlichkeit lässt sich stochastisch bestimmen indem man den Algorithmus gegen Daten mit bekannten Labels laufen lässt und die Falschklassifikationen zählt. "
   ]
  },
  {
   "cell_type": "markdown",
   "metadata": {},
   "source": [
    "- Bei der Kreuzvalidierung werden die Daten in S Teile aufgeteilt, und dann S mal jeweils mit einem andereren Teil als Testdaten validiert. Die Daten ohne den Testteil sind dabei immer die Trainingsdaten."
   ]
  },
  {
   "cell_type": "markdown",
   "metadata": {},
   "source": [
    "# b) "
   ]
  },
  {
   "cell_type": "markdown",
   "metadata": {},
   "source": [
    "- S ist die Anzahl der Teile in die der Datensatz zerteilt wird"
   ]
  },
  {
   "cell_type": "markdown",
   "metadata": {},
   "source": [
    "- perm, Xp und Tp bringen die Daten in eine zufällige Reihenfolge"
   ]
  },
  {
   "cell_type": "markdown",
   "metadata": {},
   "source": [
    "- idxS ist eine Liste der Anfangsindexe der S Teile"
   ]
  },
  {
   "cell_type": "markdown",
   "metadata": {},
   "source": [
    "- Die Schleife läuft über alle S Teile und macht jeweils einen Test mit einem anderen Teil"
   ]
  },
  {
   "cell_type": "markdown",
   "metadata": {},
   "source": [
    "- X_learn und T_learn bzw. X_test und T_test sind jeweils der Lerndatensatz und der Testdatensatz mit Labeln"
   ]
  },
  {
   "cell_type": "markdown",
   "metadata": {},
   "source": [
    "- für S=1 sind alle Daten sowohl Testdaten als auch Lerndaten und es gibt nur einen Durchlauf"
   ]
  },
  {
   "cell_type": "markdown",
   "metadata": {},
   "source": [
    "- Die Schleife läuft über alle Testdaten und testet sie."
   ]
  },
  {
   "cell_type": "markdown",
   "metadata": {},
   "source": [
    "-  pClassError ist die allgemeine Fehlerwahrscheinlichkeit, pConfError sind die Fehlerwahrscheinlichkeiten per Klasse"
   ]
  },
  {
   "cell_type": "markdown",
   "metadata": {},
   "source": [
    "# c)"
   ]
  },
  {
   "cell_type": "markdown",
   "metadata": {},
   "source": [
    "- V1A2_Classifier wird importiert damit die Classen (knn und Fastknn) darin verwendet werden können"
   ]
  },
  {
   "cell_type": "markdown",
   "metadata": {},
   "source": [
    "- np.random.multivariate_normal(mu,sigma,N) hier würden N Datenpunkte gaußverteilt generiert werden.  \n",
    "  N1, N2 sind die Größen der Teildatensätze und N ist ihre kombinierte Größe"
   ]
  },
  {
   "cell_type": "markdown",
   "metadata": {},
   "source": [
    "- Klasse 0:  \n",
    "Mittelwert = [1,1]  \n",
    "Kovarianzmatrix = [[1,0.5],[0.5,1]]  \n",
    "Klasse 1:  \n",
    "Mittelwert = [3,1]    \n",
    "Kovarianzmatrix = [[1,0.5],[0.5,1]]   "
   ]
  },
  {
   "cell_type": "markdown",
   "metadata": {},
   "source": [
    "- pE_naive, pCE_naive sind die Fehlerwerte aus der Kreuzvalidierung und t_naive ist die benötigte Zeit"
   ]
  },
  {
   "cell_type": "code",
   "execution_count": 1,
   "metadata": {
    "collapsed": true
   },
   "outputs": [],
   "source": [
    "#!/usr/bin/env python\n",
    "# Programmgeruest zu Versuch 1, Aufgabe 3\n",
    "import numpy as np\n",
    "import scipy.spatial\n",
    "from random import randint\n",
    "import matplotlib \n",
    "import matplotlib.pyplot as plt \n",
    "from time import clock\n",
    "from V1A2_Classifier import *\n",
    "\n"
   ]
  },
  {
   "cell_type": "code",
   "execution_count": 2,
   "metadata": {},
   "outputs": [
    {
     "name": "stdout",
     "output_type": "stream",
     "text": [
      "Data size: N= 1000 , D= 2\n"
     ]
    }
   ],
   "source": [
    "#(i) create some synthetic data (2-dimensional Gaussian)\n",
    "C=2                               # two classes\n",
    "N1,N2=500,500                     # N1 and N2 data vectors for the two classes\n",
    "mu1, mu2 = [1,1], [3,1]           # expectations for the two classes\n",
    "sigma1 = [[1,0.5],\\\n",
    "          [0.5,1]]                # covariance matrix for class 1\n",
    "sigma2 = [[1,0.5],\\\n",
    "          [0.5,1]]                # covariance matrix for class 2\n",
    "X1 = np.random.multivariate_normal(mu1,sigma1,(N1))    # Gaussian data vectors for class 1\n",
    "X2 = np.random.multivariate_normal(mu2,sigma2,(N2))    # Gaussian data vectors for class 2\n",
    "T1,T2 = N1*[0],N2*[1]             # corresponding class labels \n",
    "X = np.concatenate((X1,X2))       # entire data set\n",
    "T = np.concatenate((T1,T2))       # entire label set\n",
    "N,D = X.shape[0], X.shape[1]      # size of data set\n",
    "print(\"Data size: N=\",N,\", D=\",D)\n"
   ]
  },
  {
   "cell_type": "code",
   "execution_count": 3,
   "metadata": {
    "collapsed": true
   },
   "outputs": [],
   "source": [
    "# (ii) create and test classifiers\n",
    "k,S = 5,10                        # k=number of nearest neighbors; S=number of data subsets for cross validation\n",
    "X_test = np.array([[2,1],[5,1],[-1,1]])   # Some additional data vectors to be tested \n"
   ]
  },
  {
   "cell_type": "code",
   "execution_count": 4,
   "metadata": {},
   "outputs": [
    {
     "name": "stdout",
     "output_type": "stream",
     "text": [
      "\n",
      "Naive KNN Classifier: \n",
      "------------------------\n",
      "S= 10  fold Cross-Validation of naive  5 -NN-Classifier requires  0.14098100000000002  seconds. Confusion error probability matrix is \n",
      " [[ 0.832  0.178]\n",
      " [ 0.168  0.822]]\n",
      "Probability of a classification error is pE =  0.173\n",
      "New data vector x_test= [2 1]  is most likely from class  1 ; class probabilities are p_class =  [0.4, 0.6]\n",
      "New data vector x_test= [5 1]  is most likely from class  1 ; class probabilities are p_class =  [0.0, 1.0]\n",
      "New data vector x_test= [-1  1]  is most likely from class  0 ; class probabilities are p_class =  [1.0, 0.0]\n"
     ]
    }
   ],
   "source": [
    "# (ii.a) test of naive KNN classifier\n",
    "print(\"\\nNaive KNN Classifier:\",\"\\n------------------------\")\n",
    "knnc = KNNClassifier(C,k)         # create classifier object of class KNNClassifier\n",
    "t1=clock()                        # start time     \n",
    "pE_naive,pCE_naive = knnc.crossvalidate(S,X,T) # do S-fold cross validation for data X,T\n",
    "t2=clock()                        # end time\n",
    "t_naive=t2-t1                     # wall time required by the naive KNN algorithmus (in seconds)\n",
    "print(\"S=\", S, \" fold Cross-Validation of naive \", k, \"-NN-Classifier requires \", t_naive, \" seconds. Confusion error probability matrix is \\n\", pCE_naive)\n",
    "print(\"Probability of a classification error is pE = \", pE_naive)\n",
    "knnc.fit(X,T)                     # train classifier with whole data set\n",
    "for x_test in X_test:             # Test some additional data vectors x_test from X_test         \n",
    "    t_test,p_class,idxNN = knnc.predict(x_test,k)\n",
    "    print (\"New data vector x_test=\", x_test, \" is most likely from class \", t_test, \"; class probabilities are p_class = \", p_class)\n"
   ]
  },
  {
   "cell_type": "markdown",
   "metadata": {},
   "source": [
    "# zu c)  \n",
    "- "
   ]
  },
  {
   "cell_type": "code",
   "execution_count": 5,
   "metadata": {},
   "outputs": [
    {
     "name": "stdout",
     "output_type": "stream",
     "text": [
      "\n",
      "Fast KNN Classifier based on KD-Trees: \n",
      "---------------------------------------\n",
      "S= 10  fold Cross-Validation of naive  5 -NN-Classifier requires  0.591526  seconds. Confusion error probability matrix is \n",
      " [[ 0.792  0.188]\n",
      " [ 0.208  0.812]]\n",
      "Probability of a classification error is pE =  0.198\n",
      "New data vector x_test= [2 1]  is most likely from class  1 ; class probabilities are p_class =  [0.4, 0.6]\n",
      "New data vector x_test= [5 1]  is most likely from class  1 ; class probabilities are p_class =  [0.0, 1.0]\n",
      "New data vector x_test= [-1  1]  is most likely from class  0 ; class probabilities are p_class =  [1.0, 0.0]\n"
     ]
    }
   ],
   "source": [
    "# (ii.b) test of KD-tree KNN classifier\n",
    "print(\"\\nFast KNN Classifier based on KD-Trees:\",\"\\n---------------------------------------\")\n",
    "knnc = FastKNNClassifier(C,k)         # create classifier object of class KNNClassifier\n",
    "t1=clock()                        # start time     \n",
    "pE_kdtree,pCE_kdtree = knnc.crossvalidate(S,X,T) # do S-fold cross validation for data X,T\n",
    "t2=clock()                        # end time\n",
    "t_kdtree=t2-t1                     # wall time required by the naive KNN algorithmus (in seconds)\n",
    "print(\"S=\", S, \" fold Cross-Validation of naive \", k, \"-NN-Classifier requires \", t_kdtree, \" seconds. Confusion error probability matrix is \\n\", pCE_kdtree)\n",
    "print(\"Probability of a classification error is pE = \", pE_kdtree)\n",
    "knnc.fit(X,T)                     # train classifier with whole data set\n",
    "for x_test in X_test:             # Test some additional data vectors x_test from X_test         \n",
    "    t_test,p_class,idxNN = knnc.predict(x_test,k)\n",
    "    print (\"New data vector x_test=\", x_test, \" is most likely from class \", t_test, \"; class probabilities are p_class = \", p_class)\n",
    "\n"
   ]
  },
  {
   "cell_type": "code",
   "execution_count": 6,
   "metadata": {},
   "outputs": [
    {
     "data": {
      "image/png": "[encoded data removed]",
      "text/plain": [
       "<matplotlib.figure.Figure at 0x7f24ad9f01d0>"
      ]
     },
     "metadata": {},
     "output_type": "display_data"
    }
   ],
   "source": [
    "# (iii) plot data\n",
    "f=plt.figure()\n",
    "a = f.add_subplot(111)\n",
    "a.plot(X1.T[0],X1.T[1],'rx')               # plot data vectors of class 1\n",
    "a.plot(X2.T[0],X2.T[1],'g+')               # plot data vectors of class 2\n",
    "a.set_xlabel('feature x1');\n",
    "a.set_ylabel('feature x2');\n",
    "a.set_title('Naive: '+str(t_naive)+'sec/ KD-Tree: '+str(t_kdtree)+'sec; Classification Error='+str(pE_naive)+'/'+str(pE_kdtree));\n",
    "\n",
    "plt.show()\n"
   ]
  },
  {
   "cell_type": "markdown",
   "metadata": {
    "collapsed": true
   },
   "source": [
    "# d)"
   ]
  },
  {
   "cell_type": "markdown",
   "metadata": {},
   "source": [
    "- k = 1 gibt error noch verbessern"
   ]
  },
  {
   "cell_type": "code",
   "execution_count": 8,
   "metadata": {},
   "outputs": [
    {
     "name": "stdout",
     "output_type": "stream",
     "text": [
      "\n",
      "Fast KNN Classifier based on KD-Trees: \n",
      "---------------------------------------\n",
      "S= 1  fold Cross-Validation of naive  1 -NN-Classifier requires  0.591526  seconds. Confusion error probability matrix is \n",
      " [[ 1.  0.]\n",
      " [ 0.  1.]]\n",
      "Probability of a classification error is pE =  0.0\n",
      "New data vector x_test= [2 1]  is most likely from class  1 ; class probabilities are p_class =  [0.0, 1.0]\n",
      "New data vector x_test= [5 1]  is most likely from class  1 ; class probabilities are p_class =  [0.0, 1.0]\n",
      "New data vector x_test= [-1  1]  is most likely from class  0 ; class probabilities are p_class =  [1.0, 0.0]\n",
      "S= 2  fold Cross-Validation of naive  1 -NN-Classifier requires  0.591526  seconds. Confusion error probability matrix is \n",
      " [[ 0.82  0.18]\n",
      " [ 0.18  0.82]]\n",
      "Probability of a classification error is pE =  0.18\n",
      "New data vector x_test= [2 1]  is most likely from class  1 ; class probabilities are p_class =  [0.0, 1.0]\n",
      "New data vector x_test= [5 1]  is most likely from class  1 ; class probabilities are p_class =  [0.0, 1.0]\n",
      "New data vector x_test= [-1  1]  is most likely from class  0 ; class probabilities are p_class =  [1.0, 0.0]\n",
      "S= 5  fold Cross-Validation of naive  1 -NN-Classifier requires  0.591526  seconds. Confusion error probability matrix is \n",
      " [[ 0.828  0.184]\n",
      " [ 0.172  0.816]]\n",
      "Probability of a classification error is pE =  0.178\n",
      "New data vector x_test= [2 1]  is most likely from class  1 ; class probabilities are p_class =  [0.0, 1.0]\n",
      "New data vector x_test= [5 1]  is most likely from class  1 ; class probabilities are p_class =  [0.0, 1.0]\n",
      "New data vector x_test= [-1  1]  is most likely from class  0 ; class probabilities are p_class =  [1.0, 0.0]\n",
      "S= 1  fold Cross-Validation of naive  5 -NN-Classifier requires  0.591526  seconds. Confusion error probability matrix is \n",
      " [[ 0.878  0.144]\n",
      " [ 0.122  0.856]]\n",
      "Probability of a classification error is pE =  0.133\n",
      "New data vector x_test= [2 1]  is most likely from class  1 ; class probabilities are p_class =  [0.4, 0.6]\n",
      "New data vector x_test= [5 1]  is most likely from class  1 ; class probabilities are p_class =  [0.0, 1.0]\n",
      "New data vector x_test= [-1  1]  is most likely from class  0 ; class probabilities are p_class =  [1.0, 0.0]\n",
      "S= 2  fold Cross-Validation of naive  5 -NN-Classifier requires  0.591526  seconds. Confusion error probability matrix is \n",
      " [[ 0.836  0.202]\n",
      " [ 0.164  0.798]]\n",
      "Probability of a classification error is pE =  0.183\n",
      "New data vector x_test= [2 1]  is most likely from class  1 ; class probabilities are p_class =  [0.4, 0.6]\n",
      "New data vector x_test= [5 1]  is most likely from class  1 ; class probabilities are p_class =  [0.0, 1.0]\n",
      "New data vector x_test= [-1  1]  is most likely from class  0 ; class probabilities are p_class =  [1.0, 0.0]\n",
      "S= 5  fold Cross-Validation of naive  5 -NN-Classifier requires  0.591526  seconds. Confusion error probability matrix is \n",
      " [[ 0.816  0.164]\n",
      " [ 0.184  0.836]]\n",
      "Probability of a classification error is pE =  0.174\n",
      "New data vector x_test= [2 1]  is most likely from class  1 ; class probabilities are p_class =  [0.4, 0.6]\n",
      "New data vector x_test= [5 1]  is most likely from class  1 ; class probabilities are p_class =  [0.0, 1.0]\n",
      "New data vector x_test= [-1  1]  is most likely from class  0 ; class probabilities are p_class =  [1.0, 0.0]\n",
      "S= 1  fold Cross-Validation of naive  11 -NN-Classifier requires  0.591526  seconds. Confusion error probability matrix is \n",
      " [[ 0.824  0.154]\n",
      " [ 0.176  0.846]]\n",
      "Probability of a classification error is pE =  0.165\n",
      "New data vector x_test= [2 1]  is most likely from class  1 ; class probabilities are p_class =  [0.36363636363636365, 0.6363636363636364]\n",
      "New data vector x_test= [5 1]  is most likely from class  1 ; class probabilities are p_class =  [0.0, 1.0]\n",
      "New data vector x_test= [-1  1]  is most likely from class  0 ; class probabilities are p_class =  [1.0, 0.0]\n",
      "S= 2  fold Cross-Validation of naive  11 -NN-Classifier requires  0.591526  seconds. Confusion error probability matrix is \n",
      " [[ 0.8    0.158]\n",
      " [ 0.2    0.842]]\n",
      "Probability of a classification error is pE =  0.179\n",
      "New data vector x_test= [2 1]  is most likely from class  1 ; class probabilities are p_class =  [0.36363636363636365, 0.6363636363636364]\n",
      "New data vector x_test= [5 1]  is most likely from class  1 ; class probabilities are p_class =  [0.0, 1.0]\n",
      "New data vector x_test= [-1  1]  is most likely from class  0 ; class probabilities are p_class =  [1.0, 0.0]\n",
      "S= 5  fold Cross-Validation of naive  11 -NN-Classifier requires  0.591526  seconds. Confusion error probability matrix is \n",
      " [[ 0.8    0.148]\n",
      " [ 0.2    0.852]]\n",
      "Probability of a classification error is pE =  0.174\n",
      "New data vector x_test= [2 1]  is most likely from class  1 ; class probabilities are p_class =  [0.36363636363636365, 0.6363636363636364]\n",
      "New data vector x_test= [5 1]  is most likely from class  1 ; class probabilities are p_class =  [0.0, 1.0]\n",
      "New data vector x_test= [-1  1]  is most likely from class  0 ; class probabilities are p_class =  [1.0, 0.0]\n"
     ]
    }
   ],
   "source": [
    "print(\"\\nFast KNN Classifier based on KD-Trees:\",\"\\n---------------------------------------\")\n",
    "for k in (1,5,11):\n",
    "    for S in (1,2,5):\n",
    "        knnc = FastKNNClassifier(C,k)         # create classifier object of class KNNClassifier  \n",
    "        pE_kdtree,pCE_kdtree = knnc.crossvalidate(S,X,T) # do S-fold cross validation for data X,T\n",
    "        print(\"S=\", S, \" fold Cross-Validation of naive \", k, \"-NN-Classifier requires \", t_kdtree, \" seconds. Confusion error probability matrix is \\n\", pCE_kdtree)\n",
    "        print(\"Probability of a classification error is pE = \", pE_kdtree)\n",
    "        knnc.fit(X,T)                     # train classifier with whole data set\n",
    "        for x_test in X_test:             # Test some additional data vectors x_test from X_test         \n",
    "            t_test,p_class,idxNN = knnc.predict(x_test,k)\n",
    "            print (\"New data vector x_test=\", x_test, \" is most likely from class \", t_test, \"; class probabilities are p_class = \", p_class)\n"
   ]
  },
  {
   "cell_type": "code",
   "execution_count": null,
   "metadata": {
    "collapsed": true
   },
   "outputs": [],
   "source": []
  }
 ],
 "metadata": {
  "kernelspec": {
   "display_name": "Python 3",
   "language": "python",
   "name": "python3"
  },
  "language_info": {
   "codemirror_mode": {
    "name": "ipython",
    "version": 3
   },
   "file_extension": ".py",
   "mimetype": "text/x-python",
   "name": "python",
   "nbconvert_exporter": "python",
   "pygments_lexer": "ipython3",
   "version": "3.6.3"
  }
 },
 "nbformat": 4,
 "nbformat_minor": 2
}
